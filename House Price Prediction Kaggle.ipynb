{
 "cells": [
  {
   "cell_type": "code",
   "execution_count": 8,
   "metadata": {},
   "outputs": [],
   "source": [
    "import pandas as pd\n",
    "import numpy as np\n",
    "from sklearn.compose import ColumnTransformer\n",
    "from sklearn.pipeline import Pipeline\n",
    "from sklearn.impute import SimpleImputer\n",
    "from sklearn.preprocessing import StandardScaler, OneHotEncoder, RobustScaler\n",
    "from sklearn.linear_model import Ridge, Lasso\n",
    "from sklearn.svm import SVR\n",
    "from sklearn.neighbors import KNeighborsRegressor\n",
    "from sklearn.metrics import mean_squared_log_error\n",
    "from sklearn.model_selection import train_test_split\n",
    "\n",
    "pd.set_option('display.max_columns', 500)\n",
    "pd.set_option('display.width', 1000)\n",
    "\n",
    "#GET THE TRAINING DATA AND PREPROCESS IT\n",
    "train = pd.read_csv(\"train.csv\")\n",
    "\n",
    "#Drop the most useless features, due to low correlation with the output, high percentage of nans\n",
    "#or with low categorical variavility\n",
    "train.drop([\"Id\",\"3SsnPorch\",\"BsmtFinSF2\",\"BsmtHalfBath\",\"MSZoning\",\"RoofStyle\",\n",
    "                     \"LowQualFinSF\",\"MiscVal\", \"KitchenAbvGr\",\"SaleType\",\n",
    "                    \"MiscFeature\",\"Fence\",\"PoolQC\",\"PoolArea\",\"EnclosedPorch\",\n",
    "                     \"FireplaceQu\",\"Alley\",\"ScreenPorch\",\"GarageQual\",\n",
    "                    \"MoSold\",\"YrSold\",\"Street\",\"BedroomAbvGr\",\n",
    "                    \"Utilities\",\"LandSlope\",\"Condition2\",\"RoofMatl\",\n",
    "                    \"BsmtCond\",\"BsmtFinType2\",\"Heating\",\"CentralAir\",\n",
    "                    \"Electrical\",\"Functional\",\"GarageCond\",\"PavedDrive\",\n",
    "                    \"BldgType\",\"SaleCondition\",\"RoofStyle\",\"HouseStyle\",\"Exterior1st\",\"Exterior2nd\"],axis = 1,inplace=True)\n",
    "\n",
    "#Process the numerical features through a pipeline:\n",
    "#1. Replace every nan with the mean of each feature\n",
    "#2. Scale the values of the features to make it easier for the models to predict\n",
    "numeric_transformer = Pipeline(steps=[\n",
    "    ('imputer', SimpleImputer(strategy='mean')),\n",
    "    ('scaler', RobustScaler())])\n",
    "\n",
    "#Process the categorical features through a pipeline:\n",
    "#1. Replace every nan with the most frequent value of each feature\n",
    "#2. One hot encode all the categorical values to turn them into numbers\n",
    "categorical_transformer = Pipeline(steps=[\n",
    "    ('imputer', SimpleImputer(strategy='most_frequent')),\n",
    "    ('onehot', OneHotEncoder(handle_unknown='ignore'))])\n",
    "\n",
    "#Get the name of all the numerical features of the dataframe\n",
    "numeric_features = list(train.drop([\"SalePrice\"],axis = 1).select_dtypes(exclude=['object']).columns)\n",
    "#Get the name of all the categorical features of the dataframe\n",
    "categorical_features = list(train.select_dtypes(include=['object']).columns)\n",
    "\n",
    "#Concatenate both numerical and categorical pipelines into one\n",
    "preprocessor = ColumnTransformer(\n",
    "    transformers=[\n",
    "        ('num', numeric_transformer, numeric_features),\n",
    "        ('cat', categorical_transformer, categorical_features)])\n",
    "\n",
    "#Get data and labels from the dataframe\n",
    "X = train.drop('SalePrice', axis=1)\n",
    "y = train['SalePrice']\n",
    "\n",
    "#Split the data into train 80% and test 20%\n",
    "X_train, X_test, y_train, y_test = train_test_split(X, y, test_size=0.2)\n",
    "\n",
    "#Process train and test data\n",
    "X_train = preprocessor.fit_transform(X_train)\n",
    "X_test = preprocessor.transform(X_test)#The preprocess pipeline is not fitted on the test data\n"
   ]
  },
  {
   "cell_type": "code",
   "execution_count": 9,
   "metadata": {},
   "outputs": [
    {
     "data": {
      "text/plain": [
       "(1168, 121)"
      ]
     },
     "execution_count": 9,
     "metadata": {},
     "output_type": "execute_result"
    }
   ],
   "source": [
    "#There are 122 features after the preprocessing\n",
    "X_train.shape"
   ]
  },
  {
   "cell_type": "code",
   "execution_count": 10,
   "metadata": {},
   "outputs": [
    {
     "name": "stdout",
     "output_type": "stream",
     "text": [
      "0\n",
      "NN: 0.12694775800417862\n",
      "1\n",
      "NN: 0.12688778538990841\n",
      "2\n",
      "NN: 0.12828317012498164\n",
      "3\n",
      "NN: 0.12711055421328973\n",
      "4\n",
      "NN: 0.1260764632692008\n",
      "5\n",
      "NN: 0.12620179276868007\n",
      "6\n",
      "NN: 0.1264933031888481\n"
     ]
    }
   ],
   "source": [
    "from keras.models import Sequential\n",
    "from keras.layers import Dense\n",
    "\n",
    "# number of neural networks\n",
    "n_models = 7\n",
    "models = []\n",
    "\n",
    "#Define the standard network architecture, fit the network and return the model\n",
    "def create_model():\n",
    "    model = Sequential()\n",
    "    model.add(Dense(128, kernel_initializer='normal',input_dim = X_train.shape[1], activation='relu'))\n",
    "    model.add(Dense(256, kernel_initializer='normal',activation='relu'))\n",
    "    model.add(Dense(256, kernel_initializer='normal',activation='relu'))\n",
    "    model.add(Dense(1, kernel_initializer='normal',activation='linear'))\n",
    "    model.compile(loss='mean_absolute_error', optimizer=\"adam\", metrics=['mean_absolute_error'])\n",
    "    model.fit(X_train, y_train, epochs=150, batch_size=32, verbose = 0)\n",
    "\n",
    "    predictions = model.predict(X_test)\n",
    "    print(\"NN:\", np.sqrt(mean_squared_log_error(y_test, predictions)))\n",
    "    \n",
    "    return model\n",
    "\n",
    "#Append the networks into a list\n",
    "for i in range(n_models):\n",
    "    print(i)\n",
    "    models.append(create_model())\n",
    "\n"
   ]
  },
  {
   "cell_type": "code",
   "execution_count": 12,
   "metadata": {},
   "outputs": [
    {
     "name": "stdout",
     "output_type": "stream",
     "text": [
      "_________________________________________________________________\n",
      "Layer (type)                 Output Shape              Param #   \n",
      "=================================================================\n",
      "dense_13 (Dense)             (None, 128)               15616     \n",
      "_________________________________________________________________\n",
      "dense_14 (Dense)             (None, 256)               33024     \n",
      "_________________________________________________________________\n",
      "dense_15 (Dense)             (None, 256)               65792     \n",
      "_________________________________________________________________\n",
      "dense_16 (Dense)             (None, 1)                 257       \n",
      "=================================================================\n",
      "Total params: 114,689\n",
      "Trainable params: 114,689\n",
      "Non-trainable params: 0\n",
      "_________________________________________________________________\n"
     ]
    }
   ],
   "source": [
    "models[0].summary()"
   ]
  },
  {
   "cell_type": "code",
   "execution_count": 13,
   "metadata": {},
   "outputs": [
    {
     "name": "stdout",
     "output_type": "stream",
     "text": [
      "0.18897195597084424\n",
      "0.22444168497066694\n",
      "0.1542449951229291\n"
     ]
    }
   ],
   "source": [
    "#Define and fit the sklearn regressors\n",
    "clf = []\n",
    "clf.append(Ridge(alpha=10))\n",
    "clf.append(Lasso(alpha=10))\n",
    "clf.append(KNeighborsRegressor(n_neighbors=10))\n",
    "\n",
    "for p in range(len(clf)):\n",
    "    clf[p].fit(X_train, y_train)\n",
    "    pred = clf[p].predict(X_test)\n",
    "    print(np.sqrt(mean_squared_log_error(y_test, pred)))"
   ]
  },
  {
   "cell_type": "code",
   "execution_count": 14,
   "metadata": {},
   "outputs": [
    {
     "data": {
      "text/html": [
       "<div>\n",
       "<style scoped>\n",
       "    .dataframe tbody tr th:only-of-type {\n",
       "        vertical-align: middle;\n",
       "    }\n",
       "\n",
       "    .dataframe tbody tr th {\n",
       "        vertical-align: top;\n",
       "    }\n",
       "\n",
       "    .dataframe thead th {\n",
       "        text-align: right;\n",
       "    }\n",
       "</style>\n",
       "<table border=\"1\" class=\"dataframe\">\n",
       "  <thead>\n",
       "    <tr style=\"text-align: right;\">\n",
       "      <th></th>\n",
       "      <th>SalePrice</th>\n",
       "    </tr>\n",
       "    <tr>\n",
       "      <th>Id</th>\n",
       "      <th></th>\n",
       "    </tr>\n",
       "  </thead>\n",
       "  <tbody>\n",
       "    <tr>\n",
       "      <th>1461</th>\n",
       "      <td>116455.268403</td>\n",
       "    </tr>\n",
       "    <tr>\n",
       "      <th>1462</th>\n",
       "      <td>153625.481807</td>\n",
       "    </tr>\n",
       "    <tr>\n",
       "      <th>1463</th>\n",
       "      <td>184499.928988</td>\n",
       "    </tr>\n",
       "    <tr>\n",
       "      <th>1464</th>\n",
       "      <td>193037.248677</td>\n",
       "    </tr>\n",
       "    <tr>\n",
       "      <th>1465</th>\n",
       "      <td>199698.810334</td>\n",
       "    </tr>\n",
       "  </tbody>\n",
       "</table>\n",
       "</div>"
      ],
      "text/plain": [
       "          SalePrice\n",
       "Id                 \n",
       "1461  116455.268403\n",
       "1462  153625.481807\n",
       "1463  184499.928988\n",
       "1464  193037.248677\n",
       "1465  199698.810334"
      ]
     },
     "execution_count": 14,
     "metadata": {},
     "output_type": "execute_result"
    }
   ],
   "source": [
    "#Get the test data and preprocess it\n",
    "test = pd.read_csv(\"test.csv\")\n",
    "test.drop([\"Id\",\"3SsnPorch\",\"BsmtFinSF2\",\"BsmtHalfBath\",\"MSZoning\",\"RoofStyle\",#\n",
    "                     \"LowQualFinSF\",\"MiscVal\", \"KitchenAbvGr\",\"SaleType\",\n",
    "                    \"MiscFeature\",\"Fence\",\"PoolQC\",\"PoolArea\",\"EnclosedPorch\",\n",
    "                     \"FireplaceQu\",\"Alley\",\"ScreenPorch\",\"GarageQual\",\n",
    "                    \"MoSold\",\"YrSold\",\"Street\",\"BedroomAbvGr\",\n",
    "                    \"Utilities\",\"LandSlope\",\"Condition2\",\"RoofMatl\",\n",
    "                    \"BsmtCond\",\"BsmtFinType2\",\"Heating\",\"CentralAir\",\n",
    "                    \"Electrical\",\"Functional\",\"GarageCond\",\"PavedDrive\",\n",
    "                    \"BldgType\",\"SaleCondition\",\"RoofStyle\",\"HouseStyle\",\"Exterior1st\",\"Exterior2nd\"],axis = 1,inplace=True)\n",
    "\n",
    "X_real = preprocessor.transform(test)\n",
    "\n",
    "#Append the predictions into a list\n",
    "predictions = []\n",
    "for t in range(n_models):\n",
    "    predictions.append(models[t].predict(X_real))\n",
    "\n",
    "for l in range(len(clf)):\n",
    "    pred = clf[l].predict(X_real)\n",
    "    pred = pred.reshape(pred.shape[0], 1)\n",
    "    predictions.append(pred)\n",
    "\n",
    "#Get the mean of the predictions \n",
    "result = sum(predictions) / len(predictions)\n",
    "\n",
    "#Save the results into a csv file with correct kaggle format\n",
    "submit = pd.DataFrame(result)\n",
    "submit.rename(columns={0:\"SalePrice\"}, inplace=True)\n",
    "submit.index.name = \"Id\"\n",
    "submit.index += 1461\n",
    "submit.to_csv(\"submission_best.csv\")\n",
    "submit.head()"
   ]
  }
 ],
 "metadata": {
  "kernelspec": {
   "display_name": "Tensorflow-GPU",
   "language": "python",
   "name": "tensorflow-gpu"
  },
  "language_info": {
   "codemirror_mode": {
    "name": "ipython",
    "version": 3
   },
   "file_extension": ".py",
   "mimetype": "text/x-python",
   "name": "python",
   "nbconvert_exporter": "python",
   "pygments_lexer": "ipython3",
   "version": "3.6.6"
  }
 },
 "nbformat": 4,
 "nbformat_minor": 2
}
